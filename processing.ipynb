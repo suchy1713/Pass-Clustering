{
 "metadata": {
  "language_info": {
   "codemirror_mode": {
    "name": "ipython",
    "version": 3
   },
   "file_extension": ".py",
   "mimetype": "text/x-python",
   "name": "python",
   "nbconvert_exporter": "python",
   "pygments_lexer": "ipython3",
   "version": "3.8.3"
  },
  "orig_nbformat": 2,
  "kernelspec": {
   "name": "python383jvsc74a57bd0092b1be93d0df02c8bd1e4aef8cdf398adffafb0bcd89d0936e511bc26d58a53",
   "display_name": "Python 3.8.3 64-bit ('base': conda)"
  }
 },
 "nbformat": 4,
 "nbformat_minor": 2,
 "cells": [
  {
   "cell_type": "code",
   "execution_count": 6,
   "metadata": {},
   "outputs": [
    {
     "output_type": "stream",
     "name": "stderr",
     "text": [
      " 47%|████▋     | 259/556 [00:03<00:03, 79.92it/s]<ipython-input-6-e082fa22d98c>:21: SettingWithCopyWarning: \n",
      "A value is trying to be set on a copy of a slice from a DataFrame.\n",
      "Try using .loc[row_indexer,col_indexer] = value instead\n",
      "\n",
      "See the caveats in the documentation: https://pandas.pydata.org/pandas-docs/stable/user_guide/indexing.html#returning-a-view-versus-a-copy\n",
      "  passes['opposition_name'] = passes['team_name'].apply(lambda x: data['home_name'] if x == data['away_name'] else data['away_name'])\n",
      "100%|██████████| 556/556 [00:07<00:00, 78.27it/s]\n"
     ]
    },
    {
     "output_type": "execute_result",
     "data": {
      "text/plain": [
       "  team_name opposition_name  start_x   end_x  start_y   end_y\n",
       "0   Arsenal        Man City   52.500  47.355   34.000  35.428\n",
       "2  Man City         Arsenal   25.410  33.075   59.024  57.664\n",
       "4  Man City         Arsenal   28.245  19.320   53.312  46.784\n",
       "5  Man City         Arsenal   13.230   4.095   47.804  38.896\n",
       "6  Man City         Arsenal    3.990  19.845   38.896  36.108"
      ],
      "text/html": "<div>\n<style scoped>\n    .dataframe tbody tr th:only-of-type {\n        vertical-align: middle;\n    }\n\n    .dataframe tbody tr th {\n        vertical-align: top;\n    }\n\n    .dataframe thead th {\n        text-align: right;\n    }\n</style>\n<table border=\"1\" class=\"dataframe\">\n  <thead>\n    <tr style=\"text-align: right;\">\n      <th></th>\n      <th>team_name</th>\n      <th>opposition_name</th>\n      <th>start_x</th>\n      <th>end_x</th>\n      <th>start_y</th>\n      <th>end_y</th>\n    </tr>\n  </thead>\n  <tbody>\n    <tr>\n      <th>0</th>\n      <td>Arsenal</td>\n      <td>Man City</td>\n      <td>52.500</td>\n      <td>47.355</td>\n      <td>34.000</td>\n      <td>35.428</td>\n    </tr>\n    <tr>\n      <th>2</th>\n      <td>Man City</td>\n      <td>Arsenal</td>\n      <td>25.410</td>\n      <td>33.075</td>\n      <td>59.024</td>\n      <td>57.664</td>\n    </tr>\n    <tr>\n      <th>4</th>\n      <td>Man City</td>\n      <td>Arsenal</td>\n      <td>28.245</td>\n      <td>19.320</td>\n      <td>53.312</td>\n      <td>46.784</td>\n    </tr>\n    <tr>\n      <th>5</th>\n      <td>Man City</td>\n      <td>Arsenal</td>\n      <td>13.230</td>\n      <td>4.095</td>\n      <td>47.804</td>\n      <td>38.896</td>\n    </tr>\n    <tr>\n      <th>6</th>\n      <td>Man City</td>\n      <td>Arsenal</td>\n      <td>3.990</td>\n      <td>19.845</td>\n      <td>38.896</td>\n      <td>36.108</td>\n    </tr>\n  </tbody>\n</table>\n</div>"
     },
     "metadata": {},
     "execution_count": 6
    }
   ],
   "source": [
    "import json\n",
    "import pandas as pd\n",
    "from tqdm import tqdm\n",
    "\n",
    "filenames = []\n",
    "for filename in os.listdir(f'data'):\n",
    "    filenames.append(f'data/{filename}')\n",
    "\n",
    "dfs = []\n",
    "for i in tqdm(range(len(filenames))):\n",
    "    filename = filenames[i]\n",
    "    if filename.endswith(\".json\"):\n",
    "        with open(filename, 'r') as f:\n",
    "            data = json.load(f)\n",
    "\n",
    "        if data['home_name'] not in ['Man City', 'PSG']:\n",
    "            continue\n",
    "\n",
    "        events = pd.DataFrame(data['events'])\n",
    "        passes = events[(events['type'] == 'Pass') & (events['outcomeType'] == 'Successful')]\n",
    "        passes['opposition_name'] = passes['team_name'].apply(lambda x: data['home_name'] if x == data['away_name'] else data['away_name'])\n",
    "        dfs.append(passes[['team_name', 'opposition_name', 'start_x', 'end_x', 'start_y', 'end_y']])\n",
    "\n",
    "df = pd.concat(dfs)\n",
    "df.to_csv('passes.csv', index=None)\n",
    "df.head()"
   ]
  }
 ]
}